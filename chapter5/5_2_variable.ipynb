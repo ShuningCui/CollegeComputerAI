{
 "cells": [
  {
   "cell_type": "markdown",
   "metadata": {},
   "source": [
    "## print函数\n",
    "#### Python的<font color=\"purple\">**print()函数**</font>接受一些文本作为输入，然后将这些文本显示在屏幕上。\n",
    "#### \"Hello, world\"是传递给print()的参数。**“Hello, world”<font color=\"purple\">必须使用引号**</font>，以便Python将其解释为文本，而不是其他内容。"
   ]
  },
  {
   "cell_type": "code",
   "execution_count": null,
   "metadata": {},
   "outputs": [],
   "source": [
    "print(\"Hello, world\")"
   ]
  },
  {
   "cell_type": "markdown",
   "metadata": {},
   "source": [
    "## 变量\n",
    "+ #### 在Python中变量是<font color=\"purple\">**可以赋值的标识符**</font>，并在整个代码中用于引用该值。\n",
    "+ #### 通常赋值操作符与变量一起使用。也就是说，我们使用称为赋值运算符的特殊符号“=”赋值给变量。\n",
    "+ #### 赋值操作符是运算符的一种，运算符是一个符号，如=或+，它对一个或多个值执行某种操作。"
   ]
  },
  {
   "cell_type": "code",
   "execution_count": null,
   "metadata": {},
   "outputs": [],
   "source": [
    "string = \"Hello World\"\n",
    "print(string)"
   ]
  },
  {
   "cell_type": "markdown",
   "metadata": {},
   "source": [
    "+ #### <font color=\"purple\">**变量名是区分大小写的**</font>，因此名为string的变量与名为String的变量是不同的"
   ]
  },
  {
   "cell_type": "code",
   "execution_count": null,
   "metadata": {},
   "outputs": [],
   "source": [
    "string = \"Hello World\"\n",
    "print(string)"
   ]
  },
  {
   "cell_type": "markdown",
   "metadata": {},
   "source": [
    "## 变量命名规则\n",
    "#### 变量名可以根据自己的喜好长短而定，但有一些规则必须遵守。变量名<font color=\"purple\">**只能包含**</font>大小写字母(A-Z, A-Z)、数字(0-9)和下划线(_)。但是，变量名不能以数字开头。\n",
    "> #### Python变量名可以包含有效的Unicode字符。这意味着变量名可以包含来自非英语字母的字母，比如éand ü这样的装饰字母，也可以包括中文、日文和阿拉伯符号。然而，并不是每个系统都可以显示装饰字符或者中文、日文，所以如果你的代码要与许多不同地区的人共享，最好避免使用这些字符。"
   ]
  },
  {
   "cell_type": "markdown",
   "metadata": {},
   "source": [
    "## 好的变量名\n",
    "#### <font color=\"purple\">**描述性的名字比简短的名字更好**</font>。描述性变量名是必不可少的，特别是对于复杂的程序。通常，描述性名称需要使用多个单词。不要害怕使用冗长的变量名。"
   ]
  },
  {
   "cell_type": "code",
   "execution_count": null,
   "metadata": {},
   "outputs": [],
   "source": [
    "s = 3600\n",
    "Seconds = 3600\n",
    "Seconds_per_hour = 3600"
   ]
  },
  {
   "cell_type": "markdown",
   "metadata": {},
   "source": [
    "## Python变量命名规范\n",
    "#### <font color=\"purple\">**Camel**</font>\n",
    ">#### 除了第一个字母，每个单词的第一个字母都是大写的，其他字母都是小写的。小写字母和大写字母并置，看起来就像骆驼上的驼峰。如numStudents和listOfNames\n",
    "#### <font color=\"purple\">**Snake**</font>\n",
    ">#### 每个字母都是小写，每个单词之间用下划线分隔。比如num_students和list_of_names\n",
    "#### PEP 8 广泛认为是官方风格指南"
   ]
  },
  {
   "cell_type": "markdown",
   "metadata": {},
   "source": [
    "## 检查变量的值"
   ]
  },
  {
   "cell_type": "code",
   "execution_count": null,
   "metadata": {},
   "outputs": [],
   "source": [
    "string = \"Hello World\"\n",
    "string"
   ]
  },
  {
   "cell_type": "markdown",
   "metadata": {},
   "source": [
    "#### 看到这个输出和print输出的区别了吗？<font color=\"purple\">**print输出的Hello  World周围没有任何单引号。**</font>\n",
    "+ #### 当你输入string并按回车键时，是在告诉Python检查变量string。显示的输出是赋给变量的值的表示。在这个例子中，string被赋值字符串“Hello, world”，因此输出被单引号包围，**表明string是字符串**。\n",
    "+ #### 另一方面，当执行print()输出一个变量时，**Python会以更可读的方式显示该变量的值**。\n",
    "+ #### 有时，打印变量和检查变量的输出是相同的，如输出是数字的时候。而大多数时候，**检查变量会比print()提供更多有用的信息**。"
   ]
  },
  {
   "cell_type": "code",
   "execution_count": null,
   "metadata": {},
   "outputs": [],
   "source": [
    "x = 2\n",
    "y = \"2\"\n",
    "print(x)\n",
    "print(y)\n",
    "x,y\n"
   ]
  },
  {
   "cell_type": "markdown",
   "metadata": {},
   "source": [
    "## 注释\n",
    "#### 编写注释最常见的方式是在代码中以#字符开始新一行。代码运行时，任何以#开头的行都会被忽略。以新行开始的注释称为<font color=\"purple\">**块注释**。</font>也可以写<font color=\"purple\">**行内注释**</font>，即与某些代码出现在同一行的注释。只需要在代码行的末尾加上一个#，后面跟着注释中的文字即可。"
   ]
  },
  {
   "cell_type": "code",
   "execution_count": null,
   "metadata": {},
   "outputs": [],
   "source": [
    "# This is a block comment. 块注释\n",
    "string = \"Hello World.\"\n",
    "print(string)   # This is an in-line comment. 行内注释"
   ]
  },
  {
   "cell_type": "markdown",
   "metadata": {},
   "source": [
    "## 多行注释\n",
    ">#### 一般来说，保持注释尽可能短是一个好主意，但有时需要写的内容超过了单行的大小。在这种情况下，可以在同样以#符号开头的新行上继续注释\n",
    ">#### 根据PEP8，注释应该总是以<font color=\"purple\">**完整句子的形式写在#后面**</font>。#和第一个字之间有<font color=\"purple\">**一个空格**</font>。对于内联注释，PEP8建议代码和#符号之间<font color=\"purple\">**至少有两个空格**</font>。一般来说，PEP8建议少使用注释。只有当注释为代码增加价值时，才使用注释，因为注释可以让你更容易理解为什么某些事情是用某种方式完成的。<font color=\"purple\">**描述某事做什么的注释通常可以通过使用更具描述性的变量名来完成**</font>。"
   ]
  },
  {
   "cell_type": "code",
   "execution_count": null,
   "metadata": {},
   "outputs": [],
   "source": [
    "# 这是我的第一个程序\n",
    "# 他输出短语，你好，世界\n",
    "# 这注释比脚本都长\n",
    "string = \"Hello World.\"\n",
    "print(string)"
   ]
  }
 ],
 "metadata": {
  "kernelspec": {
   "display_name": "GPUPyTorch",
   "language": "python",
   "name": "python3"
  },
  "language_info": {
   "codemirror_mode": {
    "name": "ipython",
    "version": 3
   },
   "file_extension": ".py",
   "mimetype": "text/x-python",
   "name": "python",
   "nbconvert_exporter": "python",
   "pygments_lexer": "ipython3",
   "version": "3.12.8"
  },
  "orig_nbformat": 4
 },
 "nbformat": 4,
 "nbformat_minor": 2
}
