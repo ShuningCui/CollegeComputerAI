{
 "cells": [
  {
   "cell_type": "markdown",
   "id": "ac18a54d",
   "metadata": {},
   "source": [
    "## 编码\n",
    "#### 在 Python 3 中，默认的源文件编码是 UTF - 8，这本身就支持中文。不过，为了确保兼容性，可以在 Python 文件的开头添加编码声明："
   ]
  },
  {
   "cell_type": "code",
   "execution_count": null,
   "id": "272ce137",
   "metadata": {},
   "outputs": [],
   "source": [
    "# -*- coding: utf-8 -*-"
   ]
  },
  {
   "cell_type": "markdown",
   "id": "12312e34",
   "metadata": {},
   "source": [
    "#### 也可以是使用python查看编码之后的字节码，也就是查看字符串的字节表示。如果字符串是一个 Python 的str对象，可以使用encode()方法把它编码成字节对象，然后查看字节的值。"
   ]
  },
  {
   "cell_type": "code",
   "execution_count": null,
   "id": "5be3d9a1",
   "metadata": {},
   "outputs": [],
   "source": [
    "s = \"你好，世界\"\n",
    "encoded_bytes = s.encode('utf-8')\n",
    "print(encoded_bytes)\n"
   ]
  }
 ],
 "metadata": {
  "kernelspec": {
   "display_name": "GPUPyTorch",
   "language": "python",
   "name": "python3"
  },
  "language_info": {
   "name": "python",
   "version": "3.12.8"
  }
 },
 "nbformat": 4,
 "nbformat_minor": 5
}
