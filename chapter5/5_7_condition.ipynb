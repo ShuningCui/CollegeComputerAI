{
 "cells": [
  {
   "cell_type": "markdown",
   "metadata": {},
   "source": [
    "## 条件逻辑"
   ]
  },
  {
   "cell_type": "markdown",
   "metadata": {},
   "source": [
    "#### 比较运算符\n",
    "\n",
    "![Alt text](../pictures/boolOperator.png)"
   ]
  },
  {
   "cell_type": "code",
   "execution_count": null,
   "metadata": {},
   "outputs": [],
   "source": [
    "1==1, 3>5\n"
   ]
  },
  {
   "cell_type": "markdown",
   "metadata": {},
   "source": [
    ">### 还有一种基本数据类型叫做布尔(boolean)，简称布尔(bool)，只能有两个值中的一个。在Python中，这些值命名为True和False。布尔表达式计算的结果便是一个布尔类型的量。<font color=\"purple\">**注意，True和False都以大写字母开头。**</font>"
   ]
  },
  {
   "cell_type": "code",
   "execution_count": null,
   "metadata": {},
   "outputs": [],
   "source": [
    "\"abc\">\"abd\",\"xyz\"<\"xyza\"\n"
   ]
  },
  {
   "cell_type": "code",
   "execution_count": null,
   "metadata": {},
   "outputs": [],
   "source": [
    "\"这\" > \"我\""
   ]
  },
  {
   "cell_type": "markdown",
   "metadata": {},
   "source": [
    "## 逻辑运算符"
   ]
  },
  {
   "cell_type": "markdown",
   "metadata": {},
   "source": [
    ">### 当两个命题P和Q与and组合时，复合命题“P and Q”为真当且仅当P和 Q都为真时。P or Q则P和Q中有一个为真时，表达式为真。not则是取反的意思。"
   ]
  },
  {
   "cell_type": "code",
   "execution_count": null,
   "metadata": {},
   "outputs": [],
   "source": [
    "False or True\n",
    "True and False\n",
    "not False"
   ]
  },
  {
   "cell_type": "code",
   "execution_count": null,
   "metadata": {},
   "outputs": [],
   "source": [
    "# 判断year是否是闰年\n",
    "year = 1900\n",
    "(year % 4==0 and year % 100 !=0) or (year % 400 ==0)\n"
   ]
  },
  {
   "cell_type": "markdown",
   "metadata": {},
   "source": [
    "## 流程控制\n",
    "#### if语句告诉Python只在条件满足的情况下执行部分代码。if语句由三部分组成: \n",
    "#### 1. **if**关键字。\n",
    "#### 2. 一个布尔条件表达式，<font color=\"purple\">**后面跟着一个冒号。**</font>\n",
    "#### 3. <font color=\"purple\">**当条件为真时**</font>执行的缩进代码块。"
   ]
  },
  {
   "cell_type": "code",
   "execution_count": null,
   "metadata": {},
   "outputs": [],
   "source": [
    "if 2+1 == 3:\n",
    "    print(\"4+4=8\")\n"
   ]
  },
  {
   "cell_type": "code",
   "execution_count": null,
   "metadata": {},
   "outputs": [],
   "source": [
    "n=0.1\n",
    "while n<0.5:\n",
    "    n=n+0.1"
   ]
  },
  {
   "cell_type": "markdown",
   "metadata": {},
   "source": [
    "#### **else**关键字用在**if**语句之后，以便在if语句的测试条件为**False**时执行某些代码。\n",
    "#### 注意，else关键字没有测试条件，后面跟着一个冒号。<font color=darkred>**不需要条件**</font>，因为如果if语句的测试条件不通过，它就会执行。"
   ]
  },
  {
   "cell_type": "code",
   "execution_count": null,
   "metadata": {},
   "outputs": [],
   "source": [
    "score = float(input(\"输入成绩：\"))\n",
    "if score >= 60:\n",
    "    print(\"你及格了\")\n",
    "else:\n",
    "    print(\"未通过考试\")\n"
   ]
  },
  {
   "cell_type": "markdown",
   "metadata": {},
   "source": [
    "#### 使用**elif**检查三个或更多的条件。和if语句一样，**elif**语句也有三部分:\n",
    "#### 1. **elif**关键字 \n",
    "#### 2. 一个测试条件，后面跟着一个冒号 \n",
    "#### 3. 当测试条件为**True**时执行的缩进代码块 \n"
   ]
  },
  {
   "cell_type": "code",
   "execution_count": null,
   "metadata": {},
   "outputs": [],
   "source": [
    "grade = float(input(\"输入百分制成绩：\"))\n",
    "if grade >=90:\n",
    "    print(\"优\")\n",
    "elif grade >=80:\n",
    "    print(\"良\")\n",
    "elif grade >=70:\n",
    "    print(\"中\")\n",
    "elif grade >=60:\n",
    "    print(\"差\")\n",
    "else:\n",
    "    print(\"不及格\")\n"
   ]
  },
  {
   "cell_type": "markdown",
   "metadata": {},
   "source": [
    "## 嵌套if语句\n",
    "#### 可以在另一个循环中嵌套if语句以创建复杂的决策。嵌套的if语句可以创建多种可能的代码运行方式。"
   ]
  },
  {
   "cell_type": "code",
   "execution_count": null,
   "metadata": {},
   "outputs": [],
   "source": [
    "if grade >=90:\n",
    "    pass\n",
    "else:\n",
    "    if grade >=80:\n",
    "        pass"
   ]
  }
 ],
 "metadata": {
  "kernelspec": {
   "display_name": "GPUPyTorch",
   "language": "python",
   "name": "python3"
  },
  "language_info": {
   "codemirror_mode": {
    "name": "ipython",
    "version": 3
   },
   "file_extension": ".py",
   "mimetype": "text/x-python",
   "name": "python",
   "nbconvert_exporter": "python",
   "pygments_lexer": "ipython3",
   "version": "3.12.8"
  },
  "orig_nbformat": 4
 },
 "nbformat": 4,
 "nbformat_minor": 2
}
