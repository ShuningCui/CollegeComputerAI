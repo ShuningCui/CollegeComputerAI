{
 "cells": [
  {
   "cell_type": "code",
   "execution_count": 1,
   "metadata": {},
   "outputs": [],
   "source": [
    "import os\n",
    "from openai import OpenAI\n",
    "from dotenv import load_dotenv"
   ]
  },
  {
   "cell_type": "code",
   "execution_count": 2,
   "metadata": {},
   "outputs": [],
   "source": [
    "load_dotenv()\n",
    "api_key = os.getenv('DOUBAO_API_KEY')\n",
    "if not api_key:\n",
    "    raise ValueError(\"API Key not found\")\n",
    "\n",
    "model_id = 'doubao-1-5-pro-32k-250115'\n",
    "base_url = 'https://ark.cn-beijing.volces.com/api/v3'\n",
    "client = OpenAI(api_key=api_key, base_url=base_url)"
   ]
  },
  {
   "cell_type": "code",
   "execution_count": 3,
   "metadata": {},
   "outputs": [],
   "source": [
    "def ask_doubao(user_message):\n",
    "    response = client.chat.completions.create(\n",
    "        model = model_id,\n",
    "        messages=[{\"role\": \"user\", \n",
    "                   \"content\": user_message}]\n",
    "    )\n",
    "    return response.choices[0].message.content"
   ]
  },
  {
   "cell_type": "code",
   "execution_count": 5,
   "metadata": {},
   "outputs": [
    {
     "name": "stdout",
     "output_type": "stream",
     "text": [
      "北京、西安、成都、杭州、上海\n"
     ]
    }
   ],
   "source": [
    "user = \"中国最著名的5个旅游城市是哪些？简要回答城市名即可\"\n",
    "response = ask_doubao(user)\n",
    "print(response)"
   ]
  },
  {
   "cell_type": "code",
   "execution_count": 8,
   "metadata": {},
   "outputs": [],
   "source": [
    "def ask_doubao2(user_message):\n",
    "    response = client.chat.completions.create(\n",
    "        model = model_id,\n",
    "        messages=user_message,\n",
    "        temperature=0.5,\n",
    "        max_tokens=200,\n",
    "    )\n",
    "    return response.choices[0].message.content"
   ]
  },
  {
   "cell_type": "code",
   "execution_count": 10,
   "metadata": {},
   "outputs": [
    {
     "name": "stdout",
     "output_type": "stream",
     "text": [
      "### 论点总结\n",
      "- **陈述1**：表达“我”对苹果有喜爱之情。\n",
      "- **陈述2**：表达“我”对香蕉有喜爱之情。\n",
      "\n",
      "### 更有力的陈述及原因\n",
      "这两条陈述不存在哪条更有力的情况。因为它们都只是个人主观喜好的表达，没有客观的评判标准来衡量哪一个喜好更强烈或更有说服力。每个人对于不同水果的喜好是基于个人的口味、习惯等因素，这两条陈述在表达个人喜好这一维度上具有同等的效力。 \n"
     ]
    }
   ],
   "source": [
    "user_message = [\n",
    "    {\n",
    "        \"role\": \"system\",\n",
    "        \"content\": [\n",
    "            {\n",
    "                \"type\": \"text\",\n",
    "                \"text\": \"你将得到关于同一主题的一对陈述(用XML标签分隔). 首先总结每条陈述的论点。然后指出哪条陈述更有力，并解释原因。\"\n",
    "            }\n",
    "        ]\n",
    "    },\n",
    "    {\n",
    "        \"role\": \"user\",\n",
    "        \"content\": [\n",
    "            {\n",
    "                \"type\": \"text\",\n",
    "                \"text\": \"<statement1>我喜欢吃苹果</statement1>\"\n",
    "            },\n",
    "            {\n",
    "                \"type\": \"text\",\n",
    "                \"text\": \"<statement2>我喜欢吃香蕉</statement2>\"\n",
    "            }\n",
    "        ]\n",
    "    }\n",
    "]\n",
    "response = ask_doubao2(user_message)\n",
    "print(response)"
   ]
  },
  {
   "cell_type": "code",
   "execution_count": 11,
   "metadata": {},
   "outputs": [
    {
     "name": "stdout",
     "output_type": "stream",
     "text": [
      "答案：大象的鼻子用途广泛，可用于呼吸、嗅觉、抓取食物、喝水、交流、防御等。\n",
      "玩笑：嘿，大象的鼻子就像个超级多功能小能手，呼吸闻味抓零食，喝水打架全靠它，简直就是大象界的“瑞士军刀”！ \n"
     ]
    }
   ],
   "source": [
    "user_message = [\n",
    "    {\n",
    "        \"role\": \"system\",\n",
    "        \"content\": \"\"\"\n",
    "            请按以下步骤对用户输入进行回复：\n",
    "            步骤一：当用户提供文本后，若文本中存在问题，用简洁的一句话准确回答用户文本中的问题，并在回答前加上前缀“答案：”。若文本中无问题，则对文本进行合理的总结或分析。\n",
    "            步骤二：基于步骤一的答案（若有），将其转化为一个有趣的玩笑话，添加前缀“玩笑：”。若无步骤一的答案，则根据用户文本内容创作一个相关的有趣玩笑，添加前缀“玩笑：”。\n",
    "        \"\"\"\n",
    "    },\n",
    "    {\n",
    "        \"role\": \"user\",\n",
    "        \"content\": \"大象的鼻子有什么用？\"\n",
    "    }\n",
    "] \n",
    "response = ask_doubao2(user_message)\n",
    "print(response)"
   ]
  },
  {
   "cell_type": "code",
   "execution_count": 12,
   "metadata": {},
   "outputs": [
    {
     "name": "stdout",
     "output_type": "stream",
     "text": [
      "Java is a high - level, object - oriented programming language developed by James Gosling at Sun Microsystems in the 1990s, known for its \"write once, run anywhere\" portability. \n"
     ]
    }
   ],
   "source": [
    "user_message = [\n",
    "    {\n",
    "        \"role\": \"system\",\n",
    "        \"content\": \"\"\"\n",
    "            Answer all replies in a consistent style that follows the format,\n",
    "            length and style of your previous responses.\n",
    "            Example:\n",
    "            user:\n",
    "                Teach me about Python.\n",
    "            assistant:\n",
    "                Python is a programming language developed in 1989 by Guido van Rossum.\n",
    "            Future replies:\n",
    "                The response was only a sentence so limit all future replies to a single sentence.\n",
    "        \"\"\"\n",
    "    },\n",
    "    {\n",
    "        \"role\": \"user\",\n",
    "        \"content\": \"Teach me about Java.\"\n",
    "    }\n",
    "]\n",
    "response = ask_doubao2(user_message)\n",
    "print(response)"
   ]
  }
 ],
 "metadata": {
  "kernelspec": {
   "display_name": "GPUPyTorch",
   "language": "python",
   "name": "python3"
  },
  "language_info": {
   "codemirror_mode": {
    "name": "ipython",
    "version": 3
   },
   "file_extension": ".py",
   "mimetype": "text/x-python",
   "name": "python",
   "nbconvert_exporter": "python",
   "pygments_lexer": "ipython3",
   "version": "3.12.8"
  }
 },
 "nbformat": 4,
 "nbformat_minor": 2
}
