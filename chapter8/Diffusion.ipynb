{
 "cells": [
  {
   "cell_type": "code",
   "execution_count": null,
   "id": "72add4d3",
   "metadata": {},
   "outputs": [],
   "source": [
    "import torch\n",
    "from diffusers import DDPMPipeline\n",
    "from matplotlib import pyplot as plt\n",
    "from torchvision.utils import make_grid"
   ]
  },
  {
   "cell_type": "code",
   "execution_count": null,
   "id": "41b53d79",
   "metadata": {},
   "outputs": [],
   "source": [
    "# Set the device to use our GPU or CPU\n",
    "device = \"cuda\" if torch.cuda.is_available() else \"cpu\"\n",
    "# Load the pipeline\n",
    "image_pipe = DDPMPipeline.from_pretrained(\"google/ddpm-celebahq-256\")\n",
    "image_pipe.to(device)"
   ]
  },
  {
   "cell_type": "code",
   "execution_count": null,
   "id": "ee45cc84",
   "metadata": {},
   "outputs": [],
   "source": [
    "images = image_pipe().images\n",
    "images[0]"
   ]
  },
  {
   "cell_type": "code",
   "execution_count": null,
   "id": "abbfeec4",
   "metadata": {},
   "outputs": [],
   "source": [
    "def plot_noise_and_denoise(scheduler_output, step):\n",
    "    _, axs = plt.subplots(1, 2, figsize=(12, 5))\n",
    "    prev_prev_sample = scheduler_output.prev_sample\n",
    "    grid = make_grid(prev_prev_sample, nrow=4).permute(1, 2, 0)\n",
    "    axs[0].imshow(grid.cpu().clip(-1, 1) * 0.5 + 0.5)\n",
    "    axs[0].set_title(f\"Current x (step {step})\")\n",
    "    axs[0].axis(\"off\")\n",
    "\n",
    "    pred_x0 = scheduler_output.pred_original_sample\n",
    "    grid = make_grid(pred_x0, nrow=4).permute(1, 2, 0)\n",
    "    axs[1].imshow(grid.cpu().clip(-1, 1) * 0.5 + 0.5)\n",
    "    axs[1].set_title(f\"Predicted denoised images (step {step})\")\n",
    "    axs[1].axis(\"off\")\n",
    "    plt.show()"
   ]
  },
  {
   "cell_type": "code",
   "execution_count": null,
   "id": "34e9228f",
   "metadata": {},
   "outputs": [],
   "source": [
    "# 随机起始点是4张图像 每张图像都是3通道（RGB）、256x256像素的图像\n",
    "image = torch.randn(4, 3, 256, 256).to(device)\n",
    "# 设置特定的扩散步骤数量\n",
    "image_pipe.scheduler.set_timesteps(num_inference_steps=30)\n",
    "for i, t in enumerate(image_pipe.scheduler.timesteps):\n",
    "# 根据当前样本x和时间步t获取预测结果\n",
    "    with torch.inference_mode():\n",
    "# 我们需要传入时间步t，以便模型知道它当前处于哪个时间步。\n",
    "        noise_pred = image_pipe.unet(image, t)[\"sample\"]\n",
    "# 计算使用调度器后更新后的x\n",
    "    scheduler_output = image_pipe.scheduler.step(noise_pred, t, image)\n",
    "# 更新x\n",
    "    image = scheduler_output.prev_sample\n",
    "# 同时展示x和预测的去噪图像\n",
    "    if i % 10 == 0 or i == len(image_pipe.scheduler.timesteps) - 1:\n",
    "        plot_noise_and_denoise(scheduler_output, i)"
   ]
  }
 ],
 "metadata": {
  "kernelspec": {
   "display_name": "GPUPyTorch",
   "language": "python",
   "name": "python3"
  },
  "language_info": {
   "codemirror_mode": {
    "name": "ipython",
    "version": 3
   },
   "file_extension": ".py",
   "mimetype": "text/x-python",
   "name": "python",
   "nbconvert_exporter": "python",
   "pygments_lexer": "ipython3",
   "version": "3.12.8"
  }
 },
 "nbformat": 4,
 "nbformat_minor": 5
}
